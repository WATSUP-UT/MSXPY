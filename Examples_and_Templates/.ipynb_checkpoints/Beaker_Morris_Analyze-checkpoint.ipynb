{
 "cells": [
  {
   "cell_type": "markdown",
   "id": "eee32584",
   "metadata": {},
   "source": [
    "### Generate Results for Method of Morris within a Batch Reactor\n",
    "\n",
    "This script utilizes the simulation results, stored in a pickle file, generated previously.\n",
    "\n",
    "Utilizing the batch reactor is useful when considering only species present in the bulk phase, not wall phase."
   ]
  },
  {
   "cell_type": "markdown",
   "id": "9e20ca91",
   "metadata": {},
   "source": [
    "**Import Packages**"
   ]
  },
  {
   "cell_type": "code",
   "execution_count": null,
   "id": "da2ab193",
   "metadata": {},
   "outputs": [],
   "source": [
    "#Import packages:\n",
    "\n",
    "import os \n",
    "import sys\n",
    "\n",
    "main_folder = os.path.dirname(os.getcwd())\n",
    "sys.path.insert(0,main_folder+'\\Function_Libraries')\n",
    "#Set working directory\n",
    "os.chdir(main_folder)\n",
    "\n",
    "import numpy as np\n",
    "import pandas as pd\n",
    "import pickle\n",
    "from SALib.sample import morris as morris_s\n",
    "from SALib.analyze import morris as morris_a\n",
    "import matplotlib.pyplot as plt\n",
    "import time\n",
    "\n",
    "%matplotlib inline\n",
    "\n"
   ]
  },
  {
   "cell_type": "markdown",
   "id": "2213abbe",
   "metadata": {},
   "source": [
    "\n",
    "**Import Model Results From Pickle File**\n"
   ]
  },
  {
   "cell_type": "code",
   "execution_count": null,
   "id": "84177521",
   "metadata": {},
   "outputs": [],
   "source": [
    "#Set the name of the pickle files to be imported with results from beaker\n",
    "#and from model results\n",
    "pickle_file_beaker=r'Examples_and_Templates\\Pickle Files\\beaker_morris_jupyter.pkl'\n",
    "\n",
    "#Import data from pickle file\n",
    "with open(pickle_file_beaker,'rb') as pfile:\n",
    "    beaker_pickle=pickle.load(pfile)\n",
    "\n",
    "    \n",
    "#Allocate information from the pickle file to seperate variables\n",
    "results=beaker_pickle['results']\n",
    "problem=beaker_pickle['problem']\n",
    "param_values_beaker=beaker_pickle['param_values']\n",
    "traj=beaker_pickle['traj']\n",
    "constants_vary=beaker_pickle['constants_vary']\n",
    "species_vary=beaker_pickle['species_vary']\n"
   ]
  },
  {
   "cell_type": "markdown",
   "id": "d67bf96f",
   "metadata": {},
   "source": [
    "**Compute mu_star and sigma for each timestep**\n",
    "\n",
    "The value of mu_star, which indicates the level of influence of each parameter, and sigma, which indicates the level of interaction pbetween parameters, is calculated for each parameter for each timestep of the model.\n",
    "\n",
    "The results are stored in two dataframes- mu_star_df_beaker and sigma_df_beaker"
   ]
  },
  {
   "cell_type": "code",
   "execution_count": null,
   "id": "db2f99c9",
   "metadata": {},
   "outputs": [],
   "source": [
    "#Extract the number of timesteps for which the model was computed\n",
    "timesteps=len(results[0]['node']['1'].index)\n",
    "timesteps_index=results[0]['node']['1'].index\n",
    "\n",
    "#Compute the morris values for each parameter for each timestep of the model\n",
    "#Create an array to store the mu_star values at each timestep\n",
    "mu_star_timestep=np.zeros((timesteps,problem['num_vars']))\n",
    "sigma_timestep=np.zeros((timesteps,problem['num_vars']))\n",
    "\n",
    "#Extract the model output results for that specific timestep\n",
    "mono_out=np.zeros((len(results),1))\n",
    "for j in range(timesteps):\n",
    "    for i in range(len(results)):\n",
    "        mono_out[i]=results[i]['node']['1'].loc[timesteps_index[j],'cNH2CL']\n",
    "    \n",
    "    #Compute morris results\n",
    "    a=morris_a.analyze(problem,param_values_beaker,mono_out)\n",
    "    \n",
    "    mu_star_timestep[j,:]=a['mu_star']\n",
    "    sigma_timestep[j,:]=a['sigma']\n",
    "\n",
    "#Convert mu_star_timestep into a dataframe\n",
    "mu_star_df_beaker=pd.DataFrame(mu_star_timestep,index=timesteps_index,columns=problem['names'])\n",
    "sigma_df_beaker=pd.DataFrame(sigma_timestep,index=timesteps_index,columns=problem['names'])\n"
   ]
  },
  {
   "cell_type": "markdown",
   "id": "519fdee4",
   "metadata": {},
   "source": [
    "The variables <code>mu_star_df_beaker</code> and <code>sigma_df_beaker</code> contain the results of the method of morris analysis and can be sliced/diced in any way that suits a particular application. Below are three useful implementations ways of analyzing the results. "
   ]
  },
  {
   "cell_type": "markdown",
   "id": "06e05c48",
   "metadata": {},
   "source": [
    "**Plot mu_star and sigma for each parameter**"
   ]
  },
  {
   "cell_type": "code",
   "execution_count": null,
   "id": "78bfc862",
   "metadata": {},
   "outputs": [],
   "source": [
    "#For each parameter for the beaker, plot the Mu_star on the right axis and \n",
    "#sigma on the left axis\n",
    "for k in range(problem['num_vars']):\n",
    "    param=problem['names'][k]\n",
    "    # create figure and axis objects with subplots()\n",
    "    fig,ax = plt.subplots()\n",
    "    # make a plot\n",
    "    ax.plot(timesteps_index/3600,mu_star_df_beaker.loc[:,param])\n",
    "    ax.set_ylabel('Mu_Star')\n",
    "    # twin object for two different y-axis on the sample plot\n",
    "    ax2=ax.twinx()\n",
    "    # make a plot with different y-axis using second axis object\n",
    "    ax2.plot(timesteps_index/3600,sigma_df_beaker.loc[:,param],color='r')\n",
    "    ax2.set_ylabel('Sigma')\n",
    "    fig.legend(['Mu_Star','Sigma'])\n",
    "    ax.set_xlabel('Hours')\n",
    "    ax.set_title(problem['names'][k])\n",
    "    \n"
   ]
  },
  {
   "cell_type": "markdown",
   "id": "35781ecb",
   "metadata": {},
   "source": [
    "**Plot values of mu_star versus water age for each parameter**"
   ]
  },
  {
   "cell_type": "code",
   "execution_count": null,
   "id": "1001813b",
   "metadata": {},
   "outputs": [],
   "source": [
    "params_plot=problem['names']\n",
    "\n",
    "plt.figure()\n",
    "for i in range(len(params_plot)):\n",
    "    plt.plot(mu_star_df_beaker.index/3600,mu_star_df_beaker.loc[:,params_plot[i]])\n",
    "    \n",
    "plt.xlabel('Water Age (hours)')\n",
    "plt.ylabel('Mu_Star in cNH2CL')\n",
    "plt.legend(params_plot,ncol=5,loc=\"lower center\", bbox_to_anchor=(0.5, -0.55))\n",
    "\n"
   ]
  },
  {
   "cell_type": "markdown",
   "id": "8f173229",
   "metadata": {},
   "source": [
    "**Create a scatter plot showing mu_star vs sigma for a specific water age**"
   ]
  },
  {
   "cell_type": "code",
   "execution_count": null,
   "id": "8680831f",
   "metadata": {},
   "outputs": [],
   "source": [
    "#Select the water age in hours to use for the mu_star vs sigma plot\n",
    "wat_age=72\n",
    "\n",
    "plt.figure()\n",
    "mu_star_plot=mu_star_df_beaker.loc[wat_age*3600,:]\n",
    "sigma_plot=sigma_df_beaker.loc[wat_age*3600,:]\n",
    "var_names=problem['names']\n",
    "plt.plot(mu_star_plot,sigma_plot,marker='o',ls='')\n",
    "plt.ylabel('Sigma')\n",
    "plt.xlabel('Mu_Star')\n",
    "for i in range(len(var_names)):\n",
    "    plt.text(mu_star_plot[i],sigma_plot[i],var_names[i])\n",
    "plt.title('Mu_Star vs Sigma at Water Age '+str(wat_age) + ' hours')"
   ]
  }
 ],
 "metadata": {
  "kernelspec": {
   "display_name": "Python 3 (ipykernel)",
   "language": "python",
   "name": "python3"
  },
  "language_info": {
   "codemirror_mode": {
    "name": "ipython",
    "version": 3
   },
   "file_extension": ".py",
   "mimetype": "text/x-python",
   "name": "python",
   "nbconvert_exporter": "python",
   "pygments_lexer": "ipython3",
   "version": "3.9.12"
  },
  "varInspector": {
   "cols": {
    "lenName": 16,
    "lenType": 16,
    "lenVar": 40
   },
   "kernels_config": {
    "python": {
     "delete_cmd_postfix": "",
     "delete_cmd_prefix": "del ",
     "library": "var_list.py",
     "varRefreshCmd": "print(var_dic_list())"
    },
    "r": {
     "delete_cmd_postfix": ") ",
     "delete_cmd_prefix": "rm(",
     "library": "var_list.r",
     "varRefreshCmd": "cat(var_dic_list()) "
    }
   },
   "types_to_exclude": [
    "module",
    "function",
    "builtin_function_or_method",
    "instance",
    "_Feature"
   ],
   "window_display": false
  }
 },
 "nbformat": 4,
 "nbformat_minor": 5
}
