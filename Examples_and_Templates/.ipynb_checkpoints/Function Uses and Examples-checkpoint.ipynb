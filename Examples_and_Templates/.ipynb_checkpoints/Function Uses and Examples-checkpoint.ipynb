{
 "cells": [
  {
   "cell_type": "markdown",
   "id": "e6a4541b",
   "metadata": {},
   "source": [
    "### Documentation\n",
    "\n",
    "This nodebook serves as the documentation and demonstraton for the functions contained in the MSXPY toolbox. \n",
    "\n",
    "\n",
    "\n"
   ]
  },
  {
   "cell_type": "markdown",
   "id": "c2d365ed",
   "metadata": {},
   "source": [
    "Import packages"
   ]
  },
  {
   "cell_type": "code",
   "execution_count": 4,
   "id": "068ad520",
   "metadata": {},
   "outputs": [],
   "source": [
    "#Import the packages\n",
    "\n",
    "import os \n",
    "import sys\n",
    "\n",
    "#CHANGE THIS VARIABLE BASED ON YOUR COMPUTER\n",
    "main_folder=r'C:\\Users\\frank\\Documents\\Box Sync\\working files\\Leap-hi\\Epanet-MSX\\MSXpy\\MSXPY'\n",
    "\n",
    "sys.path.insert(0,main_folder+'\\Function_Libraries')\n",
    "#Set working directory\n",
    "os.chdir(main_folder)\n",
    "\n",
    "\n",
    "import numpy as np\n",
    "import matplotlib.pyplot as plt\n",
    "import epanet_toolkit as epa\n",
    "import msx_toolkit as msx\n",
    "import pandas as pd\n",
    "import wntr\n",
    "import mf_msx_toolkit as mf\n",
    "import pickle"
   ]
  },
  {
   "cell_type": "markdown",
   "id": "39808d55",
   "metadata": {},
   "source": [
    "Import .inp and .msx models"
   ]
  },
  {
   "cell_type": "code",
   "execution_count": 2,
   "id": "5f6c815d",
   "metadata": {},
   "outputs": [],
   "source": [
    "\n",
    "#Close any files that were already open\n",
    "epa.ENclose()\n",
    "msx.MSXclose()\n",
    "\n",
    "#open the inp file\n",
    "\n",
    "inp_file = r'INP_and_MSX_Files\\Net1.inp'\n",
    "epa.ENopen(inp_file,'report.rpt')\n",
    "#open msx file\n",
    "msx.MSXopen(r'INP_and_MSX_Files\\Net1-NH2CL_JV_TOC.msx')"
   ]
  },
  {
   "cell_type": "markdown",
   "id": "848ea187",
   "metadata": {},
   "source": [
    "Change duration of model evaluation"
   ]
  },
  {
   "cell_type": "code",
   "execution_count": 3,
   "id": "ace77386",
   "metadata": {},
   "outputs": [],
   "source": [
    "#Number of days to run model\n",
    "days=14\n",
    "\n",
    "#0 for duration\n",
    "epa.ENsettimeparam(0, int(days*24*3600))"
   ]
  },
  {
   "cell_type": "markdown",
   "id": "7ee47f51",
   "metadata": {},
   "source": [
    "### MSXRunQual\n",
    "\n",
    "Runs an EPANET MSX simulation and saves simulation results to a dictionary, similar to how results are stored when using WNTR to run a hydraulic simulation\n",
    "<br>\n",
    "\n",
    "*NOTE*: Before a water quality simulation can be executed, a hydraulic model evaluation must be evaluated first, using the <code>MSXsolveH</code> function.\n",
    "\n",
    "**Function Inputs**\n",
    "<br>\n",
    "\n",
    "<code>links</code>: Default: All links in the model. A list of links in the model for which the quality results should be extracted. By default, results from all links are extracted. An empty list signifies that no results from links will be extracted.\n",
    "<br>\n",
    "<code>nodes</code>: Default: All nodes in the model. A list of nodes in the model for which the quality results should be extracted. By default, results from all nodes are extracted. An empty list signifies that no results from nodes will be extracted.\n",
    "<br>\n",
    "<code>species</code>: Default: All species in the model. A list of species in the model for which the quality results should be extracted. By default, results from all species are extracted. \n",
    "<br>\n",
    "<code>by_species</code>: Default: \"yes\".\"yes\" or \"no\". If \"yes\", the results dictionary will be structured by having the results of a dataframe for each species, and the columns of the dataframe will be each node or link. If \"no\", the results dictionary will be strudcutred by having a dataframe for each node/link, and each column will be a different species.\n",
    "<br>\n",
    "<code>t_start</code>: Default: 0. The time in the simulation in which simulation results should be begin to be extracted. For example, if a model is run for 14 days, but only the final 24-hour simulation results are needed, then the parameter t_start should be 13. This parameter only affects the output of results and not any parameters of the epanetmsx simulation.\n",
    "<br>\n",
    "<code>bin</code>:Default: no.  \"yes\" or \"no\". Default: \"yes\". If \"yes\", the model will be run by saving all results to a temporary binary file, which is read back into python. If \"no\", model results will be extracted directly from the model after each timestep. The resulting model simulation results are identical- this affects the method by which results are extracted and may affect the time required to complete a simulation. The code in the \"yes\" case was developed by Jon Buckhardt.\n"
   ]
  },
  {
   "cell_type": "code",
   "execution_count": 4,
   "id": "765b3a5d",
   "metadata": {},
   "outputs": [
    {
     "name": "stdout",
     "output_type": "stream",
     "text": [
      "Running Sim\n",
      "Ending Sim\n"
     ]
    }
   ],
   "source": [
    "#Solve the hydraulics of the model\n",
    "msx.MSXsolveH()  \n",
    "\n",
    "\n",
    "#Run the reaction model\n",
    "print('Running Sim')\n",
    "#In this use, the function inputs \"nodes\" and \"bin\" are using the default entrie, thus not included in the \n",
    "#function call below\n",
    "my_results=mf.MSXRunQual(links=[],species=['cNH2CL','T'],by_species='yes',t_start=13)\n",
    "print('Ending Sim')"
   ]
  },
  {
   "cell_type": "markdown",
   "id": "c32a288e",
   "metadata": {},
   "source": [
    "### GetNodeNameList\n",
    "\n",
    "Returns a list of all nodes in the model\n",
    "\n",
    "There are no inputs to this function"
   ]
  },
  {
   "cell_type": "code",
   "execution_count": 5,
   "id": "a3433fce",
   "metadata": {},
   "outputs": [
    {
     "name": "stdout",
     "output_type": "stream",
     "text": [
      "['10', '11', '12', '13', '21', '22', '23', '31', '32', '9', '2']\n"
     ]
    }
   ],
   "source": [
    "nodes=mf.GetNodeNameList()\n",
    "print(nodes)"
   ]
  },
  {
   "cell_type": "markdown",
   "id": "f981de94",
   "metadata": {},
   "source": [
    "### GetLinkNameList\n",
    "\n",
    "Returns a list of all links in the model\n",
    "\n",
    "There are no inputs to this function"
   ]
  },
  {
   "cell_type": "code",
   "execution_count": 6,
   "id": "89dcbe2a",
   "metadata": {},
   "outputs": [
    {
     "name": "stdout",
     "output_type": "stream",
     "text": [
      "['10', '11', '12', '21', '22', '31', '110', '111', '112', '113', '121', '122', '9']\n"
     ]
    }
   ],
   "source": [
    "links=mf.GetLinkNameList()\n",
    "print(links)"
   ]
  },
  {
   "cell_type": "markdown",
   "id": "09d3db11",
   "metadata": {},
   "source": [
    "### GetSpeciesNameList\n",
    "\n",
    "Returns a list of all species in the model\n",
    "\n",
    "There are no inputs to this function"
   ]
  },
  {
   "cell_type": "code",
   "execution_count": 7,
   "id": "3f0082fe",
   "metadata": {},
   "outputs": [
    {
     "name": "stdout",
     "output_type": "stream",
     "text": [
      "['HOCL', 'TOTCL', 'NH3', 'TOTNH', 'NH2CL', 'NHCL2', 'NCL3', 'I', 'OCL', 'NH4', 'TOTCO', 'H', 'OH', 'CO3', 'HCO3', 'H2CO3', 'cNH3', 'cNH2CL', 'AGE', 'DOC1', 'DOC2', 'T']\n"
     ]
    }
   ],
   "source": [
    "species=mf.GetSpeciesNameList()\n",
    "print(species)"
   ]
  },
  {
   "cell_type": "markdown",
   "id": "610a440b",
   "metadata": {},
   "source": [
    "### GetConstantNameList\n",
    "\n",
    "Returns a list of all constants in the model\n",
    "\n",
    "There are no inputs to this function"
   ]
  },
  {
   "cell_type": "code",
   "execution_count": 8,
   "id": "b50fd48f",
   "metadata": {},
   "outputs": [
    {
     "name": "stdout",
     "output_type": "stream",
     "text": [
      "['k1', 'k2', 'k3', 'k4', 'k6', 'k7', 'k8', 'k9', 'k10', 'k12', 'k13', 'k14', 'k11CO3', 'k11OCL', 'k11OH', 'kDOC1', 'kDOC2', 'AC1', 'AC2', 'AC3', 'KNH4', 'KHOCL', 'KH2CO3', 'KHCO3']\n"
     ]
    }
   ],
   "source": [
    "constants=mf.GetConstantNameList()\n",
    "print(constants)"
   ]
  },
  {
   "cell_type": "markdown",
   "id": "d8d226db",
   "metadata": {},
   "source": [
    "### GetConstants\n",
    "\n",
    "GetConstants(con_get)\n",
    "\n",
    "Returns an array containing the values of specified constants in the model\n",
    "\n",
    "<code>con_get</code>: A list containing the IDs of the constants for which the values should be extracted\n",
    "\n",
    "The sequence of values in the output array correspond to the sequence of constants in the <code>con_get</code> function input"
   ]
  },
  {
   "cell_type": "code",
   "execution_count": 9,
   "id": "8175acd4",
   "metadata": {},
   "outputs": [
    {
     "name": "stdout",
     "output_type": "stream",
     "text": [
      "[[4.2e+06]\n",
      " [2.8e+02]\n",
      " [1.8e+02]]\n"
     ]
    }
   ],
   "source": [
    "con_vals=mf.GetConstants(['k1','k3','kDOC2'])\n",
    "print(con_vals)"
   ]
  },
  {
   "cell_type": "markdown",
   "id": "3896ef8e",
   "metadata": {},
   "source": [
    "### GetInitialConcentration\n",
    "\n",
    "GetInitialConcentration(node,species)\n",
    "\n",
    "Returns the values of initial species concentrations\n",
    "\n",
    "<code>node</code>: a string with the node ID of interest\n",
    "\n",
    "<code>species</code>: A list with the species of interest\n",
    "\n",
    "The sequence of values in the output array correspond to the sequence of species in the <code>species</code> function input\n"
   ]
  },
  {
   "cell_type": "code",
   "execution_count": 10,
   "id": "dac05a03",
   "metadata": {},
   "outputs": [
    {
     "name": "stdout",
     "output_type": "stream",
     "text": [
      "[[9.e-06]\n",
      " [4.e-03]]\n"
     ]
    }
   ],
   "source": [
    "init_vals=mf.GetInitialConcentration('9',['TOTNH','TOTCO'])\n",
    "print(init_vals)"
   ]
  },
  {
   "cell_type": "markdown",
   "id": "00a9c8e4",
   "metadata": {},
   "source": [
    "### SetConstants\n",
    "\n",
    "Sets constants within the MSX model to a desired value\n",
    "\n",
    "SetConstants(con_get,given_constants)\n",
    "\n",
    "<code>con_get</code>: A list containg the constants in the MSX model to be changed\n",
    "<br>\n",
    "<code>given_constants</code>: An array containing the desired values of the constants\n",
    "\n",
    "The sequence of the values in the <code>given_constants</code> array corresponds to the sequence of constants in the list <code>con_get</code>"
   ]
  },
  {
   "cell_type": "code",
   "execution_count": 11,
   "id": "a3271e66",
   "metadata": {},
   "outputs": [
    {
     "name": "stdout",
     "output_type": "stream",
     "text": [
      "The original values of k1 and k2 are: [4200000.] and [2.1e-05]\n",
      "The modified values of k1 and k2 are: [6300000.] and [3.15e-05]\n"
     ]
    }
   ],
   "source": [
    "#Get the values of the K1 and K2 constants\n",
    "cons=mf.GetConstants(['k1','k2'])\n",
    "print('The original values of k1 and k2 are: ' + str(cons[0]) + ' and ' +str(cons[1]))\n",
    "\n",
    "#Increase values of k1 and k2 by a factor of 1.5\n",
    "mf.SetConstants(['k1','k2'],cons*1.5)\n",
    "\n",
    "#Extract the modified values of the constants to show that they were changed\n",
    "cons_mod=mf.GetConstants(['k1','k2'])\n",
    "print('The modified values of k1 and k2 are: ' + str(cons_mod[0]) + ' and ' +str(cons_mod[1]))\n",
    "\n"
   ]
  },
  {
   "cell_type": "markdown",
   "id": "444f2cc9",
   "metadata": {},
   "source": [
    "### SetInitialConcentration\n",
    "\n",
    "SetInitialConcentration(node, species, init_val)\n",
    "\n",
    "Sets the inital concentration of species at a specified node\n",
    "\n",
    "<code>node</code>: A string with the node ID of interest<br>\n",
    "<code>species</code>: A list of the species to be changed<br>\n",
    "<code>init_val</code>: An array of the values of the species to be changed\n",
    "\n",
    "\n",
    "The sequence of the values in the <code>init_val</code> array corresponds to the sequence of species in the list <code>species</code>"
   ]
  },
  {
   "cell_type": "code",
   "execution_count": 12,
   "id": "182e39e2",
   "metadata": {},
   "outputs": [
    {
     "name": "stdout",
     "output_type": "stream",
     "text": [
      "The original concentrations of TOTNH and TOTCO are: [9.e-06] and [0.004]\n",
      "The modified concentrations of TOTNH and TOTCO are: [1.8e-05] and [0.008]\n"
     ]
    }
   ],
   "source": [
    "#Get the initial concentration of TOTCO and TOTNH species at Node 9\n",
    "init_vals=mf.GetInitialConcentration('9',['TOTNH','TOTCO'])\n",
    "print('The original concentrations of TOTNH and TOTCO are: ' + str(init_vals[0]) + ' and ' +str(init_vals[1]))\n",
    "\n",
    "#Increase initial concentrations of TOTNH and TOTCO at node 9 by a factor of 2\n",
    "mf.SetInitialConcentration('9',['TOTNH','TOTCO'],init_vals*2)\n",
    "\n",
    "\n",
    "#Get the initial concentration of TOTCO and TOTNH species at Node 9\n",
    "mod_vals=mf.GetInitialConcentration('9',['TOTNH','TOTCO'])\n",
    "print('The modified concentrations of TOTNH and TOTCO are: ' + str(mod_vals[0]) + ' and ' +str(mod_vals[1]))\n",
    "\n"
   ]
  },
  {
   "cell_type": "markdown",
   "id": "44bde03d",
   "metadata": {},
   "source": [
    "### SetGlobalInitialConcentration\n",
    "\n",
    "SetGlobalInitialConcentration(species,init_val)\n",
    "\n",
    "Sets the initial concentration of a species at all links and nodes in the model\n",
    "\n",
    "<code>species</code>:A list of the species to be changed<br>\n",
    "<code>init_val</code>: An array of the values of the species\n"
   ]
  },
  {
   "cell_type": "code",
   "execution_count": 13,
   "id": "ad16a51a",
   "metadata": {},
   "outputs": [],
   "source": [
    "#Change the pH to 7.25\n",
    "mf.SetGlobalInitialConcentration(['H'],np.array([10**-7.25]))"
   ]
  },
  {
   "cell_type": "markdown",
   "id": "302d1d71",
   "metadata": {},
   "source": [
    "### Network2DPlot\n",
    "\n",
    "Network2DPlot(network,color_var,size_var,title,nodes,min_scale,max_scale,show_inds)\n",
    "\n",
    "Create a map of the network using the color of each node to represent one quantity, and another quantity represented by the size of each node.\n",
    "\n",
    "<code>network</code>:WNTR class containing the hydraulic network\n",
    "<br>\n",
    "<code>color_var</code>: The attribute to be represented by the color of each node. An array, with length equal to the number of nodes. \n",
    "<br>\n",
    "<code>size_var</code>: The attribute to be represented by the size of each node. An array, with length equal to the number of nodes. \n",
    "<br>\n",
    "<code>title</code>: A string, which will be used as the title of the figure\n",
    "<br>\n",
    "<code>nodes</code>: A list containing the nodes to be included in the map of the network\n",
    "<br>\n",
    "\n",
    "For the variable to be expressed as the size of each node, the range of values of that variable are scaled between some minimum and maximum value of node size.\n",
    "<br>\n",
    "<code>min_scale</code>: Default: 30 An integer, representing the node size that should be used for the node with the minimum value of the size_var variable.\n",
    "<br>\n",
    "<code>max_scale</code>: Default: 80 An integer, representing the node size that should be used for the node with the maximum value of the size_var variable.\n",
    "<br>\n",
    "<code>show_inds</code>: Default: all indicies. An array containing the indicies of the nodes to be shown in the map. This is used to filter out nodes that are not desired to be expressed on the map.\n"
   ]
  },
  {
   "cell_type": "code",
   "execution_count": 15,
   "id": "bd02337d",
   "metadata": {},
   "outputs": [
    {
     "data": {
      "image/png": "[encoded data removed]",
      "text/plain": [
       "<Figure size 432x288 with 2 Axes>"
      ]
     },
     "metadata": {},
     "output_type": "display_data"
    }
   ],
   "source": [
    "#Make a map of the mean concentrations with the standard deviation as the size\n",
    "\n",
    "#Import wntr model to be used later for plot\n",
    "wn = wntr.network.WaterNetworkModel(inp_file)\n",
    "\n",
    "color_var=my_results['cNH2CL']['node'].mean()\n",
    "size_var=my_results['cNH2CL']['node'].std()\n",
    "title='Mean Monochloramine Concentration'\n",
    "nodes=mf.GetNodeNameList()\n",
    "nodes.remove('9')\n",
    "mf.Network2DPlot(wn,color_var,size_var,title,nodes,min_scale=30,max_scale=80,show_inds=nodes)"
   ]
  },
  {
   "cell_type": "markdown",
   "id": "f569c458",
   "metadata": {},
   "source": [
    "### MorrisWallEvaluate\n",
    "\n",
    "MorrisWallEvaluate(model_results,species)\n",
    "\n",
    "Compute the values of mu_star and sigma for all parameters at all nodes and links within a WDN.\n",
    "\n",
    "<code>model_results</code>: Dictionary of model results, with method of morris analysis. Import pickle file generated from Model_Morris_Run.py\n",
    "<code>species</code>: A string containing the species of interest for which the values of mu_star and sigma should be analyzed. \n"
   ]
  },
  {
   "cell_type": "code",
   "execution_count": 6,
   "id": "3192c5d7",
   "metadata": {},
   "outputs": [
    {
     "name": "stdout",
     "output_type": "stream",
     "text": [
      "Evaluating Node 1 of 11\n",
      "Evaluating Node 2 of 11\n",
      "Evaluating Node 3 of 11\n",
      "Evaluating Node 4 of 11\n",
      "Evaluating Node 5 of 11\n",
      "Evaluating Node 6 of 11\n",
      "Evaluating Node 7 of 11\n",
      "Evaluating Node 8 of 11\n",
      "Evaluating Node 9 of 11\n",
      "Evaluating Node 10 of 11\n",
      "Evaluating Node 11 of 11\n",
      "Evaluating Link 1 of 13\n",
      "Evaluating Link 2 of 13\n",
      "Evaluating Link 3 of 13\n",
      "Evaluating Link 4 of 13\n",
      "Evaluating Link 5 of 13\n",
      "Evaluating Link 6 of 13\n",
      "Evaluating Link 7 of 13\n",
      "Evaluating Link 8 of 13\n",
      "Evaluating Link 9 of 13\n",
      "Evaluating Link 10 of 13\n",
      "Evaluating Link 11 of 13\n",
      "Evaluating Link 12 of 13\n",
      "Evaluating Link 13 of 13\n"
     ]
    }
   ],
   "source": [
    "\n",
    "pickle_file_model=r'Examples_and_Templates\\Pickle Files\\example_morris.pkl'\n",
    "\n",
    "#import model results from pickle file\n",
    "with open(pickle_file_model,'rb') as pfile:\n",
    "    model_results=pickle.load(pfile)\n",
    "\n",
    "species='Xb'\n",
    "    \n",
    "morris_results, age= mf.MorrisWallEvaluate(model_results,species)"
   ]
  },
  {
   "cell_type": "code",
   "execution_count": null,
   "id": "32955bfe",
   "metadata": {},
   "outputs": [],
   "source": []
  }
 ],
 "metadata": {
  "kernelspec": {
   "display_name": "Python 3",
   "language": "python",
   "name": "python3"
  },
  "language_info": {
   "codemirror_mode": {
    "name": "ipython",
    "version": 3
   },
   "file_extension": ".py",
   "mimetype": "text/x-python",
   "name": "python",
   "nbconvert_exporter": "python",
   "pygments_lexer": "ipython3",
   "version": "3.8.8"
  }
 },
 "nbformat": 4,
 "nbformat_minor": 5
}
