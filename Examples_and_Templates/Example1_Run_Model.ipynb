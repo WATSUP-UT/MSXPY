{
 "cells": [
  {
   "cell_type": "markdown",
   "id": "e87d627f",
   "metadata": {},
   "source": [
    "## Example: Run a Model\n",
    "\n",
    "This notebook demonstrates how to import an EPANET MSX File, execute a simulation, and conduct a simple analysis of the results"
   ]
  },
  {
   "cell_type": "markdown",
   "id": "c22c3bc7",
   "metadata": {},
   "source": [
    "Import Packages"
   ]
  },
  {
   "cell_type": "code",
   "execution_count": 1,
   "id": "f0d8713c",
   "metadata": {},
   "outputs": [
    {
     "name": "stdout",
     "output_type": "stream",
     "text": [
      "C:\\Users\\frank\\Documents\\Box Sync\\working files\\Leap-hi\\Epanet-MSX\\MSXpy\\MSXPY\n"
     ]
    }
   ],
   "source": [
    "\n",
    "\n",
    "import os \n",
    "import sys\n",
    "import numpy as np\n",
    "import matplotlib.pyplot as plt\n",
    "import pandas as pd\n",
    "import wntr\n",
    "\n",
    "\n",
    "main_folder = os.path.dirname(os.getcwd())\n",
    "sys.path.insert(0,main_folder+'\\Function_Libraries')\n",
    "sys.path.insert(0,main_folder+'\\INP_and_MSX_Files')\n",
    "\n",
    "#Set working directory\n",
    "os.chdir(main_folder)\n",
    "\n",
    "import MSXPY_toolkit as mpy\n",
    "import epanet_toolkit as epa\n",
    "import msx_toolkit as msx\n",
    "\n",
    "print(main_folder)"
   ]
  },
  {
   "cell_type": "markdown",
   "id": "33ceb1e6",
   "metadata": {},
   "source": [
    "##### Import Model\n",
    "\n",
    "The .inp file and .msx file are imported using the ENopen and MSXopen commands. In addition, the network is imported into WNTR. WNTR is not used for simulation, but is used for post-processsing of the results to show the results on a map of the network layout. Importing into WNTR is not required to run a simulation.\n",
    "\n",
    "Opening two EPANET MSX models at the same time causes issues. Therfore, as a precaution, the first step is to close any existing EPANET MSX models that may already be open."
   ]
  },
  {
   "cell_type": "code",
   "execution_count": 3,
   "id": "f0bcb1c3",
   "metadata": {},
   "outputs": [],
   "source": [
    "\n",
    "#Close any files that were already open\n",
    "epa.ENclose()\n",
    "msx.MSXclose()\n",
    "\n",
    "#open the inp file\n",
    "\n",
    "inp_file = r'INP_and_MSX_Files/Net1.inp'\n",
    "epa.ENopen(inp_file,'report.rpt')\n",
    "#open msx file\n",
    "msx_file = r'INP_and_MSX_Files/Net1-NH2CL_JV_TOC.msx'\n",
    "msx.MSXopen(msx_file)\n",
    "\n",
    "#Import wntr model to be used later for plot\n",
    "wn = wntr.network.WaterNetworkModel(inp_file)\n",
    "\n"
   ]
  },
  {
   "cell_type": "markdown",
   "id": "5bc3e189",
   "metadata": {},
   "source": [
    "##### Run Model\n",
    "\n",
    "The model is set to run for a duration of 14 days by using the <code>ENsettimeparam</code> function from the EPANET toolbox. Next, the hydraulic simulation is executed using the <code>MSXsolveH</code> function from the MSX toolbox. Finally, <code>MSXRunQual</code> is called to execute the water quality simulation and store results in a python dictionary."
   ]
  },
  {
   "cell_type": "code",
   "execution_count": 4,
   "id": "33a2379e",
   "metadata": {},
   "outputs": [
    {
     "name": "stdout",
     "output_type": "stream",
     "text": [
      "Running Sim\n",
      "Ending Sim\n"
     ]
    }
   ],
   "source": [
    "#Number of days to run model\n",
    "days=14\n",
    "\n",
    "#0 for duration\n",
    "epa.ENsettimeparam(0, int(days*24*3600))\n",
    "\n",
    "#Solve the hydraulics of the model\n",
    "msx.MSXsolveH()   \n",
    "\n",
    "#Run the reaction model\n",
    "print('Running Sim')\n",
    "my_results=mpy.MSXRunQual(links=[],species=['cNH2CL','T'],by_species='yes',t_start=days-1)\n",
    "print('Ending Sim')\n"
   ]
  },
  {
   "cell_type": "markdown",
   "id": "b7cf8e62",
   "metadata": {},
   "source": [
    "##### Timeseries Plot\n",
    "\n",
    "Use matplotlib to plot the monochloramine concentration at a given node"
   ]
  },
  {
   "cell_type": "code",
   "execution_count": 5,
   "id": "f63e17f1",
   "metadata": {},
   "outputs": [
    {
     "data": {
      "text/plain": [
       "Text(0.5, 0, 'Simulation Time')"
      ]
     },
     "execution_count": 5,
     "metadata": {},
     "output_type": "execute_result"
    },
    {
     "data": {
      "image/png": "[encoded data removed]",
      "text/plain": [
       "<Figure size 432x288 with 1 Axes>"
      ]
     },
     "metadata": {
      "needs_background": "light"
     },
     "output_type": "display_data"
    }
   ],
   "source": [
    "#Plot a timeseries of monochloramine concentration in node 32\n",
    "\n",
    "plt.figure()\n",
    "plt.plot(my_results['cNH2CL']['node'].index/3600,my_results['cNH2CL']['node']['32'])\n",
    "plt.ylabel('Monochloramine Concentration (mg/l)')\n",
    "plt.xlabel('Simulation Time')\n",
    "\n"
   ]
  },
  {
   "cell_type": "markdown",
   "id": "cb87edb9",
   "metadata": {},
   "source": [
    "##### Map of Results\n",
    "\n",
    "Create a simple map where the mean concentration is represented by node color and the standard deviation is represented by the node size."
   ]
  },
  {
   "cell_type": "code",
   "execution_count": 6,
   "id": "cff43c7b",
   "metadata": {},
   "outputs": [
    {
     "data": {
      "image/png": "[encoded data removed]",
      "text/plain": [
       "<Figure size 432x288 with 2 Axes>"
      ]
     },
     "metadata": {},
     "output_type": "display_data"
    }
   ],
   "source": [
    "#Make a map of the mean concentrations with the standard deviation as the size\n",
    "\n",
    "color_var=my_results['cNH2CL']['node'].mean()\n",
    "size_var=my_results['cNH2CL']['node'].std()\n",
    "title='Mean Monochloramine Concentration'\n",
    "nodes=mpy.GetNodeNameList()\n",
    "nodes.remove('9')\n",
    "mpy.Network2DPlot(wn,color_var,size_var,title,nodes,min_scale=30,max_scale=80,show_inds=nodes)"
   ]
  }
 ],
 "metadata": {
  "kernelspec": {
   "display_name": "Python 3 (ipykernel)",
   "language": "python",
   "name": "python3"
  },
  "language_info": {
   "codemirror_mode": {
    "name": "ipython",
    "version": 3
   },
   "file_extension": ".py",
   "mimetype": "text/x-python",
   "name": "python",
   "nbconvert_exporter": "python",
   "pygments_lexer": "ipython3",
   "version": "3.9.12"
  },
  "varInspector": {
   "cols": {
    "lenName": 16,
    "lenType": 16,
    "lenVar": 40
   },
   "kernels_config": {
    "python": {
     "delete_cmd_postfix": "",
     "delete_cmd_prefix": "del ",
     "library": "var_list.py",
     "varRefreshCmd": "print(var_dic_list())"
    },
    "r": {
     "delete_cmd_postfix": ") ",
     "delete_cmd_prefix": "rm(",
     "library": "var_list.r",
     "varRefreshCmd": "cat(var_dic_list()) "
    }
   },
   "types_to_exclude": [
    "module",
    "function",
    "builtin_function_or_method",
    "instance",
    "_Feature"
   ],
   "window_display": false
  }
 },
 "nbformat": 4,
 "nbformat_minor": 5
}
