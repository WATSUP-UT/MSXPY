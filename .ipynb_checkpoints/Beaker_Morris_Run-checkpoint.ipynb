{
 "cells": [
  {
   "cell_type": "markdown",
   "id": "b570895b",
   "metadata": {},
   "source": [
    "### Execute Simulations for Method of Morris within a Batch Reactor\n",
    "\n",
    "\n",
    "This notebook is used to execute simulations for determining level of influence of chemical parameters on the rate of decay of a chemical species. The batch reactor is usefule to gain inshgit into a chemical reaction scheme which consists only of bulk species.\n",
    "\n",
    "This note book is used for demonstrative purposes only. For actual implementation, use <code>FILL THIS IN NAME OF SPYDER SCRIPT</code> which executes model evaluations in parallel.\n",
    "\n",
    "The output of this notebook is a pickle file which contains the simulation results and other necessary information. Use either <code>NAME OF NOTEBOOK</code> or <code>NAME OF SCRIPT</code> to analyze the results of the model simulations.\n"
   ]
  },
  {
   "cell_type": "markdown",
   "id": "257456a2",
   "metadata": {},
   "source": [
    "**Import Packages**"
   ]
  },
  {
   "cell_type": "code",
   "execution_count": 5,
   "id": "28085faf",
   "metadata": {},
   "outputs": [],
   "source": [
    "\n",
    "#Import the packages that will be used in the subprosesses:\n",
    "import numpy as np\n",
    "import epanet_toolkit as epa\n",
    "import msx_toolkit as msx\n",
    "import pandas as pd\n",
    "import mf_msx_toolkit as mf\n",
    "import pickle\n",
    "from SALib.sample import morris as morris_s\n",
    "from SALib.analyze import morris as morris_a\n",
    "import time"
   ]
  },
  {
   "cell_type": "markdown",
   "id": "3cb55ed7",
   "metadata": {},
   "source": [
    "**Select Initial Variables**\n",
    "\n",
    "<code>pickle_file</code> is the name of the pickle file with the saved simulation results\n",
    "<br>\n",
    "<code>seed</code> is the random seed for reproducability of the input parameter values\n",
    "<br>\n",
    "<code>days</code> is the duration of the simulation, in units of days\n",
    "<br>\n",
    "<code>inp_file</code> is the name of the EPANET .inp file\n",
    "<br>\n",
    "<code>msx_file</code> is the name of the EPANET MSX .msx file\n",
    "<br>\n",
    "<code>traj</code> is the number of trajectories to utilize for the Method of Morris\n",
    "<br>\n",
    "<code>constants_vary</code> is a list containing the names of the constants to be included in the sensitivity analysis. The constants must appear in the \"Constants\" block of the .msx file\n",
    "<br>\n",
    "<code>species_vary</code> is a list containing the names of the species to be included in the sensitivity analysis, for which the initial concentration is varied. The species must appear in the \"Species\" block of the .msx file\n",
    "<br>\n",
    "<code>node</code> is the node in the Epanet model from which the initial concentrations should be extracted to be used as the base value for the method of morris sensitivity analysis.\n",
    "<br>\n",
    "<code>bounds_csv</code> is the name of the csv file containing the upper and lower bound of each parameter"
   ]
  },
  {
   "cell_type": "code",
   "execution_count": 6,
   "id": "071150d6",
   "metadata": {},
   "outputs": [],
   "source": [
    "\n",
    "#Set the name of the pickle file\n",
    "pickle_file='beaker_morris_jupyter.pkl'\n",
    "\n",
    "#Set the seed so the morris trajectories are the same every time\n",
    "seed=4\n",
    "\n",
    "#Number of days to run beaker model\n",
    "days=3\n",
    "\n",
    "#EPANET Input File\n",
    "inp_file='beaker.inp'\n",
    "\n",
    "#EPANET MSX Input File\n",
    "msx_file='Beaker-NH2CL_JV_TOC.msx'\n",
    "\n",
    "#Number of trajectories to run for the models\n",
    "traj=2\n",
    "\n",
    "#Choose the constants that we want to vary\n",
    "constants_vary=['k1','k2','k3','k4','k6','k7','k8','k9','k10','k12','k13',\n",
    "                'k14','k11CO3','k11OCL','k11OH','kDOC1','kDOC2','AC1','AC2','AC3']\n",
    "\n",
    "#Choose the species initial concentrations we want to vary   \n",
    "species_vary=['DOC1','DOC2','TOTNH','TOTCO']\n",
    "\n",
    "#The node that we want the initial concentrations form\n",
    "node='1'\n",
    "\n",
    "#Name of the .csv file which has the upper and lower bound of each parameter\n",
    "bounds_csv='bounds.csv'"
   ]
  },
  {
   "cell_type": "markdown",
   "id": "74533abf",
   "metadata": {},
   "source": [
    "**Import and run models**"
   ]
  },
  {
   "cell_type": "code",
   "execution_count": 7,
   "id": "c3280ec2",
   "metadata": {},
   "outputs": [],
   "source": [
    "\n",
    "#%% Beaker Analysis\n",
    "\n",
    "#Close any files that were already open\n",
    "epa.ENclose()\n",
    "msx.MSXclose()\n",
    "\n",
    "#open the inp file\n",
    "epa.ENopen(inp_file,'report.rpt')\n",
    "\n",
    "#open msx file\n",
    "msx.MSXopen(msx_file)\n",
    "\n",
    "#0 for duration\n",
    "epa.ENsettimeparam(0, days*24*3600)\n",
    "\n",
    "#Solve the hydraulics of the model\n",
    "msx.MSXsolveH()\n"
   ]
  },
  {
   "cell_type": "markdown",
   "id": "66093cde",
   "metadata": {},
   "source": [
    "**Set up the problem dictionary**\n",
    "\n",
    "In this block, the \"problem\" dictionary, as required by the SALIB package, is created. Because TOC, S1, and S2 are model parameters which do not appear in the MSX file, the <code>var_names</code> variable is manipulated to include the TOC, S1, and S2 variables. This is not necesary if all of the model parameters exist in the msx file."
   ]
  },
  {
   "cell_type": "code",
   "execution_count": 8,
   "id": "cb69aa88",
   "metadata": {},
   "outputs": [],
   "source": [
    "\n",
    "#import bounds csv for the range on each parameter\n",
    "bounds_range=pd.read_csv(bounds_csv,header=None,index_col=0)\n",
    "\n",
    "#Define constants_vary and species_vary as global variables because they are\n",
    "#used in the parallel function but it is a bit messy to have them in the \n",
    "#function arguments\n",
    "\n",
    "#Get the values of the constants\n",
    "cons=mf.GetConstants(constants_vary)\n",
    "\n",
    "#Extract the initial concentrations of interest\n",
    "initial_con=mf.GetInitialConcentration(node,species_vary)\n",
    "\n",
    "#Adjust the TOC, s1, and s2 values outside of the model\n",
    "#Initial TOC value\n",
    "TOC=1.5\n",
    "#Initial S1 Value\n",
    "s1=.016\n",
    "s2=.57\n",
    "\n",
    "#Append the values of the initial constants of interest to the initial\n",
    "#Because TOC, s1 and s2 are outside the model itself append those ones seperately\n",
    "i_cons=np.append(cons,[TOC,s1,s2])\n",
    "#append the rest of the initial concentrations\n",
    "i_cons=np.append(i_cons,initial_con[2:])\n",
    "\n",
    "#Create a list of the variable names to be varied\n",
    "var_names=constants_vary.copy()\n",
    "\n",
    "var_names.append('TOC')\n",
    "var_names.append('S1')\n",
    "var_names.append('S2')\n",
    "var_names=var_names + species_vary[2:]\n",
    "\n",
    "#adjust the dimensions of i_cons so it is a d2 array\n",
    "i_cons=i_cons.reshape((-1,1))\n",
    "\n",
    "high_cons=np.zeros((len(i_cons),1))\n",
    "low_cons=np.zeros((len(i_cons),1))\n",
    "\n",
    "for i in range(len(i_cons)):\n",
    "    high_cons[i]=(1+bounds_range.loc[var_names[i],1]/100)*i_cons[i]\n",
    "    low_cons[i]=(1-bounds_range.loc[var_names[i],1]/100)*i_cons[i]\n",
    "\n",
    "bounds=np.hstack((low_cons,high_cons))\n",
    "\n",
    "#Create the problem dictionary for the SALib functions\n",
    "problem = {\n",
    "    'num_vars': len(var_names),\n",
    "    'names': var_names,\n",
    "    'bounds': bounds\n",
    "}"
   ]
  },
  {
   "cell_type": "markdown",
   "id": "17da7b17",
   "metadata": {},
   "source": [
    "**Generate parameter values**\n",
    "\n",
    "Generate array of parameter values where each row represents a set of parameters for a model simulation. Sequence of the parameters is based on the sequence of the <code>problem['names']</code> variable."
   ]
  },
  {
   "cell_type": "code",
   "execution_count": 9,
   "id": "7deb7b1c",
   "metadata": {},
   "outputs": [
    {
     "name": "stdout",
     "output_type": "stream",
     "text": [
      "Running Morris with 2 trajectories\n"
     ]
    }
   ],
   "source": [
    "#Create a variable of the names of variables used in sensitivty analysis\n",
    "var_names=problem['names']\n",
    "\n",
    "print('Running Morris with ' +str(traj)+ ' trajectories')\n",
    "param_values=morris_s.sample(problem,N=1000,optimal_trajectories=traj,seed=seed)\n",
    "#Doing a little test to use the exact same parameter values as before\n",
    "#Save the parameter values for later\n",
    "param_values_beaker=param_values\n",
    "\n",
    "#Find the number of rows in param_values (the number of simulations to be run)\n",
    "[r,c]=param_values.shape \n"
   ]
  },
  {
   "cell_type": "markdown",
   "id": "27cb77ef",
   "metadata": {},
   "source": [
    "**Function to Execute Model Evaluations**\n",
    "\n",
    "This function will be used subsequently in a for loop to execute the model evaluations. "
   ]
  },
  {
   "cell_type": "code",
   "execution_count": 10,
   "id": "1f966864",
   "metadata": {},
   "outputs": [],
   "source": [
    "\n",
    "#Define the function to be used in the parallel process\n",
    "def beaker_sa(param_row):\n",
    "    #Separate the values of the constants to the initial concentrations for ease of\n",
    "    #manipulation later\n",
    "    con_values=param_row[0:len(constants_vary)]\n",
    "    species_values=param_row[len(constants_vary):]\n",
    "\n",
    "    # #Convert from the S1 and S2 values to DOC1 and DOC2 Concentrations\n",
    "    # This section is specific to the monochloramine reaction and should be deleted for other reactions\n",
    "    #S1 to DOC1\n",
    "    species_values[1]=np.multiply(species_values[1],species_values[0])/12000\n",
    "    #S2 to DOC2\n",
    "    species_values[2]=np.multiply(species_values[2],species_values[0])/12000\n",
    "\n",
    "    #Set the initial species values in the model\n",
    "    #Leave out the first column of species_values because that is \n",
    "    #the direct TOC conecntration which does not end up directly in\n",
    "    #the MSX model\n",
    "    mf.SetInitialConcentration(node,species_vary,species_values[1:])\n",
    "\n",
    "    #Set the constant values in the model\n",
    "    mf.SetConstants(constants_vary,con_values)\n",
    "\n",
    "    #run the model\n",
    "    my_results=mf.MSXRunQual(links=[],by_species='no')       \n",
    "    \n",
    "    return my_results "
   ]
  },
  {
   "cell_type": "markdown",
   "id": "c58911eb",
   "metadata": {},
   "source": [
    "**Run Models**"
   ]
  },
  {
   "cell_type": "code",
   "execution_count": 11,
   "id": "bf50891e",
   "metadata": {},
   "outputs": [
    {
     "name": "stdout",
     "output_type": "stream",
     "text": [
      "Running Models\n",
      "253.81220984458923\n"
     ]
    }
   ],
   "source": [
    "results=[]\n",
    "\n",
    "print('Running Models')\n",
    "t1=time.time()\n",
    "\n",
    "for i in range(r):\n",
    "    results.append(beaker_sa(param_values[i,:]))\n",
    "t2=time.time()\n",
    "print(t2-t1)\n",
    "\n"
   ]
  },
  {
   "cell_type": "markdown",
   "id": "74afcabe",
   "metadata": {},
   "source": [
    "**Save results to Pickle File**"
   ]
  },
  {
   "cell_type": "code",
   "execution_count": 12,
   "id": "78bb0dc3",
   "metadata": {},
   "outputs": [
    {
     "name": "stdout",
     "output_type": "stream",
     "text": [
      "done\n"
     ]
    }
   ],
   "source": [
    "#assemble variables to be saved to pickle file into a dictionary\n",
    "to_pickle={}\n",
    "to_pickle['problem']=problem\n",
    "to_pickle['results']=results\n",
    "to_pickle['constants_vary']=constants_vary\n",
    "to_pickle['species_vary']=species_vary\n",
    "to_pickle['param_values']=param_values\n",
    "to_pickle['traj']=traj\n",
    "\n",
    "#Save Results as a pickle file\n",
    "#Save the simulation results as a pickle\n",
    "with open(pickle_file,'wb') as pfile:\n",
    "    pickle.dump(to_pickle,pfile)\n",
    "\n",
    "print('done')"
   ]
  }
 ],
 "metadata": {
  "kernelspec": {
   "display_name": "Python 3",
   "language": "python",
   "name": "python3"
  },
  "language_info": {
   "codemirror_mode": {
    "name": "ipython",
    "version": 3
   },
   "file_extension": ".py",
   "mimetype": "text/x-python",
   "name": "python",
   "nbconvert_exporter": "python",
   "pygments_lexer": "ipython3",
   "version": "3.8.8"
  }
 },
 "nbformat": 4,
 "nbformat_minor": 5
}
