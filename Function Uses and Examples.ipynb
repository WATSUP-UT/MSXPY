{
 "cells": [
  {
   "cell_type": "markdown",
   "id": "e6a4541b",
   "metadata": {},
   "source": [
    "Make a table with functions and  with all the steps and flow chart\n",
    "installation instructions"
   ]
  },
  {
   "cell_type": "code",
   "execution_count": 2,
   "id": "068ad520",
   "metadata": {},
   "outputs": [],
   "source": [
    "import numpy as np\n",
    "import matplotlib.pyplot as plt\n",
    "import epanet_toolkit as epa\n",
    "import msx_toolkit as msx\n",
    "import pandas as pd\n",
    "import wntr\n",
    "import mf_msx_toolkit as mf"
   ]
  },
  {
   "cell_type": "code",
   "execution_count": 3,
   "id": "5f6c815d",
   "metadata": {},
   "outputs": [],
   "source": [
    "\n",
    "#Close any files that were already open\n",
    "epa.ENclose()\n",
    "msx.MSXclose()\n",
    "\n",
    "#open the inp file\n",
    "\n",
    "inp_file = 'Net1.inp'\n",
    "epa.ENopen(inp_file,'report.rpt')\n",
    "#open msx file\n",
    "msx.MSXopen('Net1-NH2CL_JV_TOC.msx')"
   ]
  },
  {
   "cell_type": "code",
   "execution_count": 4,
   "id": "ace77386",
   "metadata": {},
   "outputs": [],
   "source": [
    "#Number of days to run model\n",
    "days=14\n",
    "\n",
    "#0 for duration\n",
    "epa.ENsettimeparam(0, int(days*24*3600))\n",
    "\n",
    "#Solve the hydraulics of the model\n",
    "msx.MSXsolveH()   \n",
    "\n"
   ]
  },
  {
   "cell_type": "markdown",
   "id": "7ee47f51",
   "metadata": {},
   "source": [
    "### MSXRunQual\n",
    "\n",
    "Runs an EPANET MSX simulation and saves simulation results to a dictionary, similar to how results are stored when using WNTR to run a hydraulic simulation\n",
    "<br>\n",
    "\n",
    "**Function Inputs**\n",
    "<br>\n",
    "\n",
    "<code>links</code>: A list of links in the model for which the quality results should be extracted. By default, results from all links are extracted. An empty list signifies that no results from links will be extracted.\n",
    "<br>\n",
    "<code>nodes</code>: A list of nodes in the model for which the quality results should be extracted. By default, results from all nodes are extracted. An empty list signifies that no results from nodes will be extracted.\n",
    "<br>\n",
    "<code>species</code>: A list of species in the model for which the quality results should be extracted. By default, results from all species are extracted. \n",
    "<br>\n",
    "<code>by_species</code>:\"yes\" or \"no\". If \"yes\", the results dictionary will be structured by having the results of a dataframe for each species, and the columns of the dataframe will be each node or link. If \"no\", the results dictionary will be strudcutred by having a dataframe for each node/link, and each column will be a different species.\n",
    "<br>\n",
    "<code>t_start</code>:The time in the simulation in which simulation results should be begin to be extracted. For example, if a model is run for 14 days, but only the final 24-hour simulation results are needed, then the parameter t_start should be 13. This parameter only affects the output of results and not any parameters of the epanetmsx simulation.\n",
    "<br>\n",
    "<code>bin</code>:\"yes\" or \"no\". If \"yes\", the model will be run by saving all results to a temporary binary file, which is read back into python. If \"no\", model results will be extracted directly from the model after each timestep. The resulting model simulation results are identical- this affects the method by which results are extracted and may affect the time required to complete a simulation. The code in the \"yes\" case was developed by Jon Buckhardt.\n"
   ]
  },
  {
   "cell_type": "code",
   "execution_count": 5,
   "id": "765b3a5d",
   "metadata": {},
   "outputs": [
    {
     "name": "stdout",
     "output_type": "stream",
     "text": [
      "Running Sim\n",
      "Ending Sim\n"
     ]
    }
   ],
   "source": [
    "#Run the reaction model\n",
    "print('Running Sim')\n",
    "#In this use, the function inputs \"nodes\" and \"bin\" are using the default entrie, thus not included in the \n",
    "#function call below\n",
    "my_results=mf.MSXRunQual(links=[],species=['cNH2CL','T'],by_species='yes',t_start=13)\n",
    "print('Ending Sim')"
   ]
  },
  {
   "cell_type": "markdown",
   "id": "c32a288e",
   "metadata": {},
   "source": [
    "### GetNodeNameList\n",
    "\n",
    "Returns a list of all nodes in the model\n",
    "\n",
    "There are no inputs to this function"
   ]
  },
  {
   "cell_type": "code",
   "execution_count": 6,
   "id": "a3433fce",
   "metadata": {},
   "outputs": [
    {
     "name": "stdout",
     "output_type": "stream",
     "text": [
      "['10', '11', '12', '13', '21', '22', '23', '31', '32', '9', '2']\n"
     ]
    }
   ],
   "source": [
    "nodes=mf.GetNodeNameList()\n",
    "print(nodes)"
   ]
  },
  {
   "cell_type": "markdown",
   "id": "f981de94",
   "metadata": {},
   "source": [
    "### GetLinkNameList\n",
    "\n",
    "Returns a list of all links in the model\n",
    "\n",
    "There are no inputs to this function"
   ]
  },
  {
   "cell_type": "code",
   "execution_count": 7,
   "id": "89dcbe2a",
   "metadata": {},
   "outputs": [
    {
     "name": "stdout",
     "output_type": "stream",
     "text": [
      "['10', '11', '12', '21', '22', '31', '110', '111', '112', '113', '121', '122', '9']\n"
     ]
    }
   ],
   "source": [
    "links=mf.GetLinkNameList()\n",
    "print(links)"
   ]
  },
  {
   "cell_type": "markdown",
   "id": "09d3db11",
   "metadata": {},
   "source": [
    "### GetSpeciesNameList\n",
    "\n",
    "Returns a list of all species in the model\n",
    "\n",
    "There are no inputs to this function"
   ]
  },
  {
   "cell_type": "code",
   "execution_count": 8,
   "id": "3f0082fe",
   "metadata": {},
   "outputs": [
    {
     "name": "stdout",
     "output_type": "stream",
     "text": [
      "['HOCL', 'TOTCL', 'NH3', 'TOTNH', 'NH2CL', 'NHCL2', 'NCL3', 'I', 'OCL', 'NH4', 'TOTCO', 'H', 'OH', 'CO3', 'HCO3', 'H2CO3', 'cNH3', 'cNH2CL', 'AGE', 'DOC1', 'DOC2', 'T']\n"
     ]
    }
   ],
   "source": [
    "species=mf.GetSpeciesNameList()\n",
    "print(species)"
   ]
  },
  {
   "cell_type": "markdown",
   "id": "610a440b",
   "metadata": {},
   "source": [
    "### GetConstantNameList\n",
    "\n",
    "Returns a list of all constants in the model\n",
    "\n",
    "There are no inputs to this function"
   ]
  },
  {
   "cell_type": "code",
   "execution_count": 9,
   "id": "b50fd48f",
   "metadata": {},
   "outputs": [
    {
     "name": "stdout",
     "output_type": "stream",
     "text": [
      "['k1', 'k2', 'k3', 'k4', 'k6', 'k7', 'k8', 'k9', 'k10', 'k12', 'k13', 'k14', 'k11CO3', 'k11OCL', 'k11OH', 'kDOC1', 'kDOC2', 'AC1', 'AC2', 'AC3', 'KNH4', 'KHOCL', 'KH2CO3', 'KHCO3']\n"
     ]
    }
   ],
   "source": [
    "constants=mf.GetConstantNameList()\n",
    "print(constants)"
   ]
  },
  {
   "cell_type": "markdown",
   "id": "d8d226db",
   "metadata": {},
   "source": [
    "### GetConstants\n",
    "\n",
    "GetConstants(con_get)\n",
    "\n",
    "Returns an array containing the values of specified constants in the model\n",
    "\n",
    "<code>con_get</code>: A list containing the IDs of the constants for which the values should be extracted\n",
    "\n",
    "The sequence of values in the output array correspond to the sequence of constants in the <code>con_get</code> function input"
   ]
  },
  {
   "cell_type": "code",
   "execution_count": 10,
   "id": "8175acd4",
   "metadata": {},
   "outputs": [
    {
     "name": "stdout",
     "output_type": "stream",
     "text": [
      "[[4.2e+06]\n",
      " [2.8e+02]\n",
      " [1.8e+02]]\n"
     ]
    }
   ],
   "source": [
    "con_vals=mf.GetConstants(['k1','k3','kDOC2'])\n",
    "print(con_vals)"
   ]
  },
  {
   "cell_type": "markdown",
   "id": "3896ef8e",
   "metadata": {},
   "source": [
    "### GetInitialConcentration\n",
    "\n",
    "GetInitialConcentration(node,species)\n",
    "\n",
    "Returns the values of initial species concentrations\n",
    "\n",
    "<code>node</code>: a string with the node ID of interest\n",
    "\n",
    "<code>species</code>: A list with the species of interest\n",
    "\n",
    "The sequence of values in the output array correspond to the sequence of species in the <code>species</code> function input\n"
   ]
  },
  {
   "cell_type": "code",
   "execution_count": 12,
   "id": "dac05a03",
   "metadata": {},
   "outputs": [
    {
     "name": "stdout",
     "output_type": "stream",
     "text": [
      "[[9.e-06]\n",
      " [4.e-03]]\n"
     ]
    }
   ],
   "source": [
    "init_vals=mf.GetInitialConcentration('9',['TOTNH','TOTCO'])\n",
    "print(init_vals)"
   ]
  },
  {
   "cell_type": "markdown",
   "id": "00a9c8e4",
   "metadata": {},
   "source": [
    "### SetConstants\n",
    "\n",
    "Sets constants within the MSX model to a desired value\n",
    "\n",
    "SetConstants(con_get,given_constants)\n",
    "\n",
    "<code>con_get</code>: A list containg the constants in the MSX model to be changed\n",
    "<br>\n",
    "<code>given_constants</code>: An array containing the desired values of the constants\n",
    "\n",
    "The sequence of the values in the <code>given_constants</code> array corresponds to the sequence of constants in the list <code>con_get</code>"
   ]
  },
  {
   "cell_type": "code",
   "execution_count": 15,
   "id": "a3271e66",
   "metadata": {},
   "outputs": [
    {
     "name": "stdout",
     "output_type": "stream",
     "text": [
      "The original values of k1 and k2 are: [4200000.] and [2.1e-05]\n",
      "The modified values of k1 and k2 are: [6300000.] and [3.15e-05]\n"
     ]
    }
   ],
   "source": [
    "#Get the values of the K1 and K2 constants\n",
    "cons=mf.GetConstants(['k1','k2'])\n",
    "print('The original values of k1 and k2 are: ' + str(cons[0]) + ' and ' +str(cons[1]))\n",
    "\n",
    "#Increase values of k1 and k2 by a factor of 1.5\n",
    "mf.SetConstants(['k1','k2'],cons*1.5)\n",
    "\n",
    "#Extract the modified values of the constants to show that they were changed\n",
    "cons_mod=mf.GetConstants(['k1','k2'])\n",
    "print('The modified values of k1 and k2 are: ' + str(cons_mod[0]) + ' and ' +str(cons_mod[1]))\n",
    "\n"
   ]
  },
  {
   "cell_type": "markdown",
   "id": "444f2cc9",
   "metadata": {},
   "source": [
    "### SetInitialConcentration\n",
    "\n",
    "SetInitialConcentration(node, species, init_val)\n",
    "\n",
    "Sets the inital concentration of species at a specified node\n",
    "\n",
    "<code>node</code>: A string with the node ID of interest<br>\n",
    "<code>species</code>: A list of the species to be changed<br>\n",
    "<code>init_val</code>: An array of the values of the species to be changed\n",
    "\n",
    "\n",
    "The sequence of the values in the <code>init_val</code> array corresponds to the sequence of species in the list <code>species</code>"
   ]
  },
  {
   "cell_type": "code",
   "execution_count": 17,
   "id": "182e39e2",
   "metadata": {},
   "outputs": [
    {
     "name": "stdout",
     "output_type": "stream",
     "text": [
      "The original concentrations of TOTNH and TOTCO are: [9.e-06] and [0.004]\n",
      "The modified concentrations of TOTNH and TOTCO are: [1.8e-05] and [0.008]\n"
     ]
    }
   ],
   "source": [
    "#Get the initial concentration of TOTCO and TOTNH species at Node 9\n",
    "init_vals=mf.GetInitialConcentration('9',['TOTNH','TOTCO'])\n",
    "print('The original concentrations of TOTNH and TOTCO are: ' + str(init_vals[0]) + ' and ' +str(init_vals[1]))\n",
    "\n",
    "#Increase initial concentrations of TOTNH and TOTCO at node 9 by a factor of 2\n",
    "mf.SetInitialConcentration('9',['TOTNH','TOTCO'],init_vals*2)\n",
    "\n",
    "\n",
    "#Get the initial concentration of TOTCO and TOTNH species at Node 9\n",
    "mod_vals=mf.GetInitialConcentration('9',['TOTNH','TOTCO'])\n",
    "print('The modified concentrations of TOTNH and TOTCO are: ' + str(mod_vals[0]) + ' and ' +str(mod_vals[1]))\n",
    "\n"
   ]
  },
  {
   "cell_type": "markdown",
   "id": "44bde03d",
   "metadata": {},
   "source": [
    "### SetGlobalInitialConcentration\n",
    "\n",
    "SetGlobalInitialConcentration(species,init_val)\n",
    "\n",
    "Sets the initial concentration of a species at all links and nodes in the model\n",
    "\n",
    "<code>species</code>:A list of the species to be changed<br>\n",
    "<code>init_val</code>: An array of the values of the species\n"
   ]
  },
  {
   "cell_type": "code",
   "execution_count": 18,
   "id": "ad16a51a",
   "metadata": {},
   "outputs": [],
   "source": [
    "#Change the pH to 7.25\n",
    "mf.SetGlobalInitialConcentration(['H'],np.array([10**-7.25]))"
   ]
  },
  {
   "cell_type": "code",
   "execution_count": null,
   "id": "bd02337d",
   "metadata": {},
   "outputs": [],
   "source": []
  }
 ],
 "metadata": {
  "kernelspec": {
   "display_name": "Python 3",
   "language": "python",
   "name": "python3"
  },
  "language_info": {
   "codemirror_mode": {
    "name": "ipython",
    "version": 3
   },
   "file_extension": ".py",
   "mimetype": "text/x-python",
   "name": "python",
   "nbconvert_exporter": "python",
   "pygments_lexer": "ipython3",
   "version": "3.8.8"
  }
 },
 "nbformat": 4,
 "nbformat_minor": 5
}
